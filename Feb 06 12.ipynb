{
  "cells": [
    {
      "cell_type": "markdown",
      "metadata": {
        "id": "view-in-github",
        "colab_type": "text"
      },
      "source": [
        "<a href=\"https://colab.research.google.com/github/T-Vikas/AI/blob/master/Feb%2006%2012.ipynb\" target=\"_parent\"><img src=\"https://colab.research.google.com/assets/colab-badge.svg\" alt=\"Open In Colab\"/></a>"
      ]
    },
    {
      "cell_type": "code",
      "source": [
        "import pandas as pd\n",
        "import numpy as np\n",
        "import tensorflow as tf\n",
        "import matplotlib.pyplot as plt"
      ],
      "metadata": {
        "id": "pbBIqKrI06Sg"
      },
      "execution_count": 2,
      "outputs": []
    },
    {
      "cell_type": "code",
      "source": [
        "(xtrain,ytrain),(xtest,ytest)=tf.keras.datasets.mnist.load_data()"
      ],
      "metadata": {
        "id": "_k0-Eg9K2SUT",
        "outputId": "2d41d9bb-9ae4-4832-f1f9-c546f781958b",
        "colab": {
          "base_uri": "https://localhost:8080/"
        }
      },
      "execution_count": 6,
      "outputs": [
        {
          "output_type": "stream",
          "name": "stdout",
          "text": [
            "Downloading data from https://storage.googleapis.com/tensorflow/tf-keras-datasets/mnist.npz\n",
            "11490434/11490434 [==============================] - 2s 0us/step\n"
          ]
        }
      ]
    },
    {
      "cell_type": "code",
      "source": [
        "xtrain=xtrain/255.0"
      ],
      "metadata": {
        "id": "HfRkZkgk2cUc"
      },
      "execution_count": 7,
      "outputs": []
    },
    {
      "cell_type": "code",
      "source": [
        "#op data preprocessing\n",
        "ytrain=tf.keras.utils.to_categorical(ytrain)"
      ],
      "metadata": {
        "id": "OEdRpbd137qw"
      },
      "execution_count": 8,
      "outputs": []
    },
    {
      "cell_type": "code",
      "source": [
        "model=tf.keras.models.Sequential()\n",
        "model.add(tf.keras.layers.Input(shape=(28,28)))\n",
        "model.add(tf.keras.layers.Flatten())\n",
        "model.add(tf.keras.layers.Dense(units=100,activation=tf.keras.activations.relu))\n",
        "model.add(tf.keras.layers.Dense(10,activation=tf.keras.activations.softmax))"
      ],
      "metadata": {
        "id": "6c2vLELl4COS"
      },
      "execution_count": 9,
      "outputs": []
    },
    {
      "cell_type": "code",
      "source": [
        "model.summary()"
      ],
      "metadata": {
        "id": "6rrW-YYn4-SM",
        "outputId": "a08edd68-9bb5-4ea2-c2be-e4b98a8216f0",
        "colab": {
          "base_uri": "https://localhost:8080/"
        }
      },
      "execution_count": 10,
      "outputs": [
        {
          "output_type": "stream",
          "name": "stdout",
          "text": [
            "Model: \"sequential\"\n",
            "_________________________________________________________________\n",
            " Layer (type)                Output Shape              Param #   \n",
            "=================================================================\n",
            " flatten (Flatten)           (None, 784)               0         \n",
            "                                                                 \n",
            " dense (Dense)               (None, 100)               78500     \n",
            "                                                                 \n",
            " dense_1 (Dense)             (None, 10)                1010      \n",
            "                                                                 \n",
            "=================================================================\n",
            "Total params: 79,510\n",
            "Trainable params: 79,510\n",
            "Non-trainable params: 0\n",
            "_________________________________________________________________\n"
          ]
        }
      ]
    },
    {
      "cell_type": "code",
      "source": [
        "model.compile(optimizer=tf.keras.optimizers.SGD(),\n",
        "              loss=tf.keras.losses.categorical_crossentropy,\n",
        "              metrics=[\"acc\"])"
      ],
      "metadata": {
        "id": "UevGgY8l5c2b"
      },
      "execution_count": 11,
      "outputs": []
    },
    {
      "cell_type": "code",
      "source": [
        "model.fit(xtrain,ytrain,epochs=10,validation_split=0.1)"
      ],
      "metadata": {
        "id": "88E5wEdP6SvG",
        "outputId": "f0bf756b-6d3b-454e-d274-69c4fdb724d9",
        "colab": {
          "base_uri": "https://localhost:8080/"
        }
      },
      "execution_count": 12,
      "outputs": [
        {
          "output_type": "stream",
          "name": "stdout",
          "text": [
            "Epoch 1/10\n",
            "1688/1688 [==============================] - 7s 3ms/step - loss: 0.6809 - acc: 0.8288 - val_loss: 0.3255 - val_acc: 0.9173\n",
            "Epoch 2/10\n",
            "1688/1688 [==============================] - 5s 3ms/step - loss: 0.3545 - acc: 0.9018 - val_loss: 0.2607 - val_acc: 0.9302\n",
            "Epoch 3/10\n",
            "1688/1688 [==============================] - 5s 3ms/step - loss: 0.3033 - acc: 0.9142 - val_loss: 0.2339 - val_acc: 0.9367\n",
            "Epoch 4/10\n",
            "1688/1688 [==============================] - 5s 3ms/step - loss: 0.2727 - acc: 0.9234 - val_loss: 0.2135 - val_acc: 0.9418\n",
            "Epoch 5/10\n",
            "1688/1688 [==============================] - 5s 3ms/step - loss: 0.2503 - acc: 0.9298 - val_loss: 0.1979 - val_acc: 0.9455\n",
            "Epoch 6/10\n",
            "1688/1688 [==============================] - 5s 3ms/step - loss: 0.2326 - acc: 0.9346 - val_loss: 0.1835 - val_acc: 0.9505\n",
            "Epoch 7/10\n",
            "1688/1688 [==============================] - 5s 3ms/step - loss: 0.2172 - acc: 0.9389 - val_loss: 0.1740 - val_acc: 0.9522\n",
            "Epoch 8/10\n",
            "1688/1688 [==============================] - 5s 3ms/step - loss: 0.2040 - acc: 0.9430 - val_loss: 0.1639 - val_acc: 0.9547\n",
            "Epoch 9/10\n",
            "1688/1688 [==============================] - 5s 3ms/step - loss: 0.1926 - acc: 0.9460 - val_loss: 0.1541 - val_acc: 0.9573\n",
            "Epoch 10/10\n",
            "1688/1688 [==============================] - 5s 3ms/step - loss: 0.1823 - acc: 0.9490 - val_loss: 0.1476 - val_acc: 0.9603\n"
          ]
        },
        {
          "output_type": "execute_result",
          "data": {
            "text/plain": [
              "<keras.callbacks.History at 0x7f5ac0138040>"
            ]
          },
          "metadata": {},
          "execution_count": 12
        }
      ]
    },
    {
      "cell_type": "code",
      "source": [
        "#del model"
      ],
      "metadata": {
        "id": "FFcjjf5Z6eq7"
      },
      "execution_count": 13,
      "outputs": []
    },
    {
      "cell_type": "code",
      "source": [
        "model.history.history"
      ],
      "metadata": {
        "id": "0lS1G8bi9182",
        "outputId": "0c9b2691-af75-43c2-8234-672a2caa028c",
        "colab": {
          "base_uri": "https://localhost:8080/"
        }
      },
      "execution_count": 14,
      "outputs": [
        {
          "output_type": "execute_result",
          "data": {
            "text/plain": [
              "{'loss': [0.6809114813804626,\n",
              "  0.3545492887496948,\n",
              "  0.30332571268081665,\n",
              "  0.27270591259002686,\n",
              "  0.2502562999725342,\n",
              "  0.2325638383626938,\n",
              "  0.21719257533550262,\n",
              "  0.20395173132419586,\n",
              "  0.19263136386871338,\n",
              "  0.18232353031635284],\n",
              " 'acc': [0.8288333415985107,\n",
              "  0.9017592668533325,\n",
              "  0.9141666889190674,\n",
              "  0.923370361328125,\n",
              "  0.9297592639923096,\n",
              "  0.934592604637146,\n",
              "  0.9388889074325562,\n",
              "  0.9430184960365295,\n",
              "  0.9460185170173645,\n",
              "  0.9490370154380798],\n",
              " 'val_loss': [0.3255388140678406,\n",
              "  0.26066482067108154,\n",
              "  0.23392564058303833,\n",
              "  0.213485449552536,\n",
              "  0.1979084014892578,\n",
              "  0.1834530234336853,\n",
              "  0.17403851449489594,\n",
              "  0.1639222651720047,\n",
              "  0.15408070385456085,\n",
              "  0.147640198469162],\n",
              " 'val_acc': [0.9173333048820496,\n",
              "  0.9301666617393494,\n",
              "  0.9366666674613953,\n",
              "  0.9418333172798157,\n",
              "  0.9455000162124634,\n",
              "  0.9505000114440918,\n",
              "  0.9521666765213013,\n",
              "  0.9546666741371155,\n",
              "  0.9573333263397217,\n",
              "  0.9603333473205566]}"
            ]
          },
          "metadata": {},
          "execution_count": 14
        }
      ]
    },
    {
      "cell_type": "code",
      "source": [
        "import matplotlib.pyplot as plt\n",
        "plt.plot(model.history.history.get(\"acc\"))\n",
        "plt.plot(model.history.history.get(\"val_acc\"))"
      ],
      "metadata": {
        "id": "jEWHm-OzBk8z",
        "outputId": "23986f39-6478-4a61-fd9f-ceb1dd4da78d",
        "colab": {
          "base_uri": "https://localhost:8080/",
          "height": 282
        }
      },
      "execution_count": 15,
      "outputs": [
        {
          "output_type": "execute_result",
          "data": {
            "text/plain": [
              "[<matplotlib.lines.Line2D at 0x7f5a64560d30>]"
            ]
          },
          "metadata": {},
          "execution_count": 15
        },
        {
          "output_type": "display_data",
          "data": {
            "text/plain": [
              "<Figure size 432x288 with 1 Axes>"
            ],
            "image/png": "[encoded data removed]"
          },
          "metadata": {
            "needs_background": "light"
          }
        }
      ]
    },
    {
      "cell_type": "code",
      "source": [
        "plt.plot(model.history.history.get(\"loss\"))\n",
        "plt.plot(model.history.history.get(\"val_loss\"))\n",
        "plt.title(\"MNIST_loss_epoch10\")"
      ],
      "metadata": {
        "id": "S5jpwyq3B3Ud",
        "outputId": "f9e6a9cd-2204-4a7c-e890-0478a4cfe9fa",
        "colab": {
          "base_uri": "https://localhost:8080/",
          "height": 298
        }
      },
      "execution_count": 16,
      "outputs": [
        {
          "output_type": "execute_result",
          "data": {
            "text/plain": [
              "Text(0.5, 1.0, 'MNIST_loss_epoch10')"
            ]
          },
          "metadata": {},
          "execution_count": 16
        },
        {
          "output_type": "display_data",
          "data": {
            "text/plain": [
              "<Figure size 432x288 with 1 Axes>"
            ],
            "image/png": "[encoded data removed]"
          },
          "metadata": {
            "needs_background": "light"
          }
        }
      ]
    },
    {
      "cell_type": "code",
      "source": [
        "#batch size\n",
        "len(model.get_weights())"
      ],
      "metadata": {
        "id": "1Sv69gLjCBAR",
        "outputId": "ef9aa98b-8a60-419d-f521-4921e79b668f",
        "colab": {
          "base_uri": "https://localhost:8080/"
        }
      },
      "execution_count": 17,
      "outputs": [
        {
          "output_type": "execute_result",
          "data": {
            "text/plain": [
              "4"
            ]
          },
          "metadata": {},
          "execution_count": 17
        }
      ]
    },
    {
      "cell_type": "code",
      "source": [
        "for i in model.get_weights():\n",
        "  print(f\"{i.shape}\")"
      ],
      "metadata": {
        "id": "XZSozOdPHxz5",
        "outputId": "daa96375-b726-46d4-9bc7-381d77bb5328",
        "colab": {
          "base_uri": "https://localhost:8080/"
        }
      },
      "execution_count": 18,
      "outputs": [
        {
          "output_type": "stream",
          "name": "stdout",
          "text": [
            "(784, 100)\n",
            "(100,)\n",
            "(100, 10)\n",
            "(10,)\n"
          ]
        }
      ]
    },
    {
      "cell_type": "code",
      "source": [
        "test_image=xtest[0]\n",
        "plt.imshow(test_image)"
      ],
      "metadata": {
        "id": "dhYydbVaIJsc",
        "outputId": "1b56ca1d-7d2c-4401-e612-3341df468c4a",
        "colab": {
          "base_uri": "https://localhost:8080/",
          "height": 282
        }
      },
      "execution_count": 19,
      "outputs": [
        {
          "output_type": "execute_result",
          "data": {
            "text/plain": [
              "<matplotlib.image.AxesImage at 0x7f5a4d7e7a60>"
            ]
          },
          "metadata": {},
          "execution_count": 19
        },
        {
          "output_type": "display_data",
          "data": {
            "text/plain": [
              "<Figure size 432x288 with 1 Axes>"
            ],
            "image/png": "[encoded data removed]"
          },
          "metadata": {
            "needs_background": "light"
          }
        }
      ]
    },
    {
      "cell_type": "code",
      "source": [
        "test_image=test_image/255.0"
      ],
      "metadata": {
        "id": "L0Vne0scIrIj"
      },
      "execution_count": 20,
      "outputs": []
    },
    {
      "cell_type": "code",
      "source": [
        "model.input_shape"
      ],
      "metadata": {
        "id": "ij4rYPt8I5wo",
        "outputId": "1bbd7827-86ef-4560-e46b-cadab6189a0d",
        "colab": {
          "base_uri": "https://localhost:8080/"
        }
      },
      "execution_count": 21,
      "outputs": [
        {
          "output_type": "execute_result",
          "data": {
            "text/plain": [
              "(None, 28, 28)"
            ]
          },
          "metadata": {},
          "execution_count": 21
        }
      ]
    },
    {
      "cell_type": "code",
      "source": [
        "#none is 32 batc size, height, width\n",
        "test_image.shape"
      ],
      "metadata": {
        "id": "YOyLR9SkJD1G",
        "outputId": "4c2352f2-4aeb-49e2-db79-291e521357bf",
        "colab": {
          "base_uri": "https://localhost:8080/"
        }
      },
      "execution_count": 22,
      "outputs": [
        {
          "output_type": "execute_result",
          "data": {
            "text/plain": [
              "(28, 28)"
            ]
          },
          "metadata": {},
          "execution_count": 22
        }
      ]
    },
    {
      "cell_type": "code",
      "source": [
        "test_image1=np.expand_dims(test_image,axis=0)"
      ],
      "metadata": {
        "id": "egnFkv7lJWY_"
      },
      "execution_count": 23,
      "outputs": []
    },
    {
      "cell_type": "code",
      "source": [
        "test_image.shape"
      ],
      "metadata": {
        "id": "M9QmfszTJ3dm",
        "outputId": "68734dca-fc4a-46cc-ef1a-297bfbeabb64",
        "colab": {
          "base_uri": "https://localhost:8080/"
        }
      },
      "execution_count": 24,
      "outputs": [
        {
          "output_type": "execute_result",
          "data": {
            "text/plain": [
              "(28, 28)"
            ]
          },
          "metadata": {},
          "execution_count": 24
        }
      ]
    },
    {
      "cell_type": "code",
      "source": [
        "model.predict(test_image1)"
      ],
      "metadata": {
        "id": "zCTr32UUKCin",
        "outputId": "53c230ce-dae7-4edf-f459-b3ffeba676c0",
        "colab": {
          "base_uri": "https://localhost:8080/"
        }
      },
      "execution_count": 25,
      "outputs": [
        {
          "output_type": "stream",
          "name": "stdout",
          "text": [
            "1/1 [==============================] - 0s 71ms/step\n"
          ]
        },
        {
          "output_type": "execute_result",
          "data": {
            "text/plain": [
              "array([[8.3161649e-05, 9.0129987e-08, 6.1599870e-04, 1.0160520e-03,\n",
              "        3.9422841e-07, 3.7321057e-05, 4.1691539e-09, 9.9738902e-01,\n",
              "        1.5550702e-05, 8.4236794e-04]], dtype=float32)"
            ]
          },
          "metadata": {},
          "execution_count": 25
        }
      ]
    },
    {
      "cell_type": "code",
      "source": [
        "#prob of each number\n",
        "np.argmax(model.predict(test_image1))"
      ],
      "metadata": {
        "id": "jzhnKHlZKGhy",
        "outputId": "fe89e146-d001-4c01-ff54-a5e892ab9ca9",
        "colab": {
          "base_uri": "https://localhost:8080/"
        }
      },
      "execution_count": 26,
      "outputs": [
        {
          "output_type": "stream",
          "name": "stdout",
          "text": [
            "1/1 [==============================] - 0s 16ms/step\n"
          ]
        },
        {
          "output_type": "execute_result",
          "data": {
            "text/plain": [
              "7"
            ]
          },
          "metadata": {},
          "execution_count": 26
        }
      ]
    },
    {
      "cell_type": "code",
      "source": [
        "#================================================================================================================\n",
        "#================================================================================================================"
      ],
      "metadata": {
        "id": "WbMn5ZGd3xbL"
      },
      "execution_count": null,
      "outputs": []
    },
    {
      "cell_type": "code",
      "source": [
        "(xtrain,ytrain),(xtest,ytest)=tf.keras.datasets.fashion_mnist.load_data()"
      ],
      "metadata": {
        "id": "Lc707jDtKRq6",
        "outputId": "920518a0-1031-47da-e73a-2573cce1ef0c",
        "colab": {
          "base_uri": "https://localhost:8080/"
        }
      },
      "execution_count": 3,
      "outputs": [
        {
          "output_type": "stream",
          "name": "stdout",
          "text": [
            "Downloading data from https://storage.googleapis.com/tensorflow/tf-keras-datasets/train-labels-idx1-ubyte.gz\n",
            "29515/29515 [==============================] - 0s 0us/step\n",
            "Downloading data from https://storage.googleapis.com/tensorflow/tf-keras-datasets/train-images-idx3-ubyte.gz\n",
            "26421880/26421880 [==============================] - 2s 0us/step\n",
            "Downloading data from https://storage.googleapis.com/tensorflow/tf-keras-datasets/t10k-labels-idx1-ubyte.gz\n",
            "5148/5148 [==============================] - 0s 0us/step\n",
            "Downloading data from https://storage.googleapis.com/tensorflow/tf-keras-datasets/t10k-images-idx3-ubyte.gz\n",
            "4422102/4422102 [==============================] - 0s 0us/step\n"
          ]
        }
      ]
    },
    {
      "cell_type": "code",
      "source": [],
      "metadata": {
        "id": "Y9mGM3WCCCwp"
      },
      "execution_count": 27,
      "outputs": []
    },
    {
      "cell_type": "code",
      "source": [
        "xtrain.shape"
      ],
      "metadata": {
        "id": "F4wtnAGBBkmg",
        "outputId": "a30abe1c-27a1-495a-9055-7cf50902c735",
        "colab": {
          "base_uri": "https://localhost:8080/"
        }
      },
      "execution_count": 4,
      "outputs": [
        {
          "output_type": "execute_result",
          "data": {
            "text/plain": [
              "(60000, 28, 28)"
            ]
          },
          "metadata": {},
          "execution_count": 4
        }
      ]
    },
    {
      "cell_type": "code",
      "source": [
        "plt.imshow(xtrain[123],cmap='gray')\n",
        "ytrain[123]"
      ],
      "metadata": {
        "id": "Gli7ZuMqBnfp",
        "outputId": "cf47820f-e168-4f33-8917-088217347445",
        "colab": {
          "base_uri": "https://localhost:8080/",
          "height": 282
        }
      },
      "execution_count": 5,
      "outputs": [
        {
          "output_type": "execute_result",
          "data": {
            "text/plain": [
              "2"
            ]
          },
          "metadata": {},
          "execution_count": 5
        },
        {
          "output_type": "display_data",
          "data": {
            "text/plain": [
              "<Figure size 432x288 with 1 Axes>"
            ],
            "image/png": "[encoded data removed]"
          },
          "metadata": {
            "needs_background": "light"
          }
        }
      ]
    },
    {
      "cell_type": "code",
      "source": [
        "ytrain[123]   #pullover"
      ],
      "metadata": {
        "id": "m73C9CgMBzB1",
        "outputId": "70ba2733-eabc-4758-f378-13bc368baab6",
        "colab": {
          "base_uri": "https://localhost:8080/"
        }
      },
      "execution_count": 6,
      "outputs": [
        {
          "output_type": "execute_result",
          "data": {
            "text/plain": [
              "2"
            ]
          },
          "metadata": {},
          "execution_count": 6
        }
      ]
    },
    {
      "cell_type": "code",
      "source": [
        "#preprocessing\n",
        "xtrain=xtrain/255.0\n",
        "ytrain=tf.keras.utils.to_categorical(ytrain)"
      ],
      "metadata": {
        "id": "3uJ81t0uCAUx"
      },
      "execution_count": 7,
      "outputs": []
    },
    {
      "cell_type": "code",
      "source": [
        "model=tf.keras.models.Sequential()\n",
        "model.add(tf.keras.layers.Input(shape=(28,28)))\n",
        "model.add(tf.keras.layers.Flatten())\n",
        "model.add(tf.keras.layers.Dense(units=512,activation=tf.keras.activations.relu))\n",
        "model.add(tf.keras.layers.Dense(units=10,activation=tf.keras.activations.softmax))"
      ],
      "metadata": {
        "id": "3lsCCnATCQKw"
      },
      "execution_count": 15,
      "outputs": []
    },
    {
      "cell_type": "code",
      "source": [
        "model.summary()"
      ],
      "metadata": {
        "id": "tqtiBdB5DMFv",
        "outputId": "e766492f-4a96-45bc-da71-f57ad7805b98",
        "colab": {
          "base_uri": "https://localhost:8080/"
        }
      },
      "execution_count": 16,
      "outputs": [
        {
          "output_type": "stream",
          "name": "stdout",
          "text": [
            "Model: \"sequential_1\"\n",
            "_________________________________________________________________\n",
            " Layer (type)                Output Shape              Param #   \n",
            "=================================================================\n",
            " flatten_1 (Flatten)         (None, 784)               0         \n",
            "                                                                 \n",
            " dense_2 (Dense)             (None, 512)               401920    \n",
            "                                                                 \n",
            " dense_3 (Dense)             (None, 10)                5130      \n",
            "                                                                 \n",
            "=================================================================\n",
            "Total params: 407,050\n",
            "Trainable params: 407,050\n",
            "Non-trainable params: 0\n",
            "_________________________________________________________________\n"
          ]
        }
      ]
    },
    {
      "cell_type": "code",
      "source": [
        "model.compile(optimizer=tf.keras.optimizers.SGD(),loss=tf.keras.losses.categorical_crossentropy,metrics=\"acc\")"
      ],
      "metadata": {
        "id": "qQ9QOKtXDT1s"
      },
      "execution_count": 17,
      "outputs": []
    },
    {
      "cell_type": "code",
      "source": [
        "model_hist=model.fit(xtrain,ytrain,validation_split=0.1,epochs=10,batch_size=128)"
      ],
      "metadata": {
        "id": "5DJBFpHJDpi6",
        "outputId": "064b4afc-98cd-4485-d82e-7a9398fb481d",
        "colab": {
          "base_uri": "https://localhost:8080/"
        }
      },
      "execution_count": 18,
      "outputs": [
        {
          "output_type": "stream",
          "name": "stdout",
          "text": [
            "Epoch 1/10\n",
            "422/422 [==============================] - 2s 3ms/step - loss: 1.0442 - acc: 0.6886 - val_loss: 0.7369 - val_acc: 0.7650\n",
            "Epoch 2/10\n",
            "422/422 [==============================] - 1s 3ms/step - loss: 0.6793 - acc: 0.7828 - val_loss: 0.6209 - val_acc: 0.7935\n",
            "Epoch 3/10\n",
            "422/422 [==============================] - 1s 3ms/step - loss: 0.5970 - acc: 0.8076 - val_loss: 0.5661 - val_acc: 0.8125\n",
            "Epoch 4/10\n",
            "422/422 [==============================] - 2s 4ms/step - loss: 0.5529 - acc: 0.8194 - val_loss: 0.5366 - val_acc: 0.8203\n",
            "Epoch 5/10\n",
            "422/422 [==============================] - 1s 3ms/step - loss: 0.5243 - acc: 0.8278 - val_loss: 0.5108 - val_acc: 0.8257\n",
            "Epoch 6/10\n",
            "422/422 [==============================] - 1s 3ms/step - loss: 0.5033 - acc: 0.8323 - val_loss: 0.4931 - val_acc: 0.8312\n",
            "Epoch 7/10\n",
            "422/422 [==============================] - 1s 3ms/step - loss: 0.4877 - acc: 0.8364 - val_loss: 0.4823 - val_acc: 0.8355\n",
            "Epoch 8/10\n",
            "422/422 [==============================] - 1s 3ms/step - loss: 0.4751 - acc: 0.8403 - val_loss: 0.4775 - val_acc: 0.8317\n",
            "Epoch 9/10\n",
            "422/422 [==============================] - 1s 3ms/step - loss: 0.4653 - acc: 0.8424 - val_loss: 0.4598 - val_acc: 0.8370\n",
            "Epoch 10/10\n",
            "422/422 [==============================] - 1s 3ms/step - loss: 0.4553 - acc: 0.8459 - val_loss: 0.4519 - val_acc: 0.8383\n"
          ]
        }
      ]
    },
    {
      "cell_type": "code",
      "source": [
        "#del model"
      ],
      "metadata": {
        "id": "6PVUox63D0Vt"
      },
      "execution_count": 14,
      "outputs": []
    },
    {
      "cell_type": "code",
      "source": [],
      "metadata": {
        "id": "aTYUOcZzEjeO"
      },
      "execution_count": 12,
      "outputs": []
    },
    {
      "cell_type": "code",
      "source": [
        "model.summary()"
      ],
      "metadata": {
        "id": "CRqX9hot3jRC",
        "outputId": "1896b317-7cc1-4587-bce0-d3a192ee195e",
        "colab": {
          "base_uri": "https://localhost:8080/"
        }
      },
      "execution_count": 13,
      "outputs": [
        {
          "output_type": "stream",
          "name": "stdout",
          "text": [
            "Model: \"sequential\"\n",
            "_________________________________________________________________\n",
            " Layer (type)                Output Shape              Param #   \n",
            "=================================================================\n",
            " flatten (Flatten)           (None, 784)               0         \n",
            "                                                                 \n",
            " dense (Dense)               (None, 512)               401920    \n",
            "                                                                 \n",
            " dense_1 (Dense)             (None, 10)                5130      \n",
            "                                                                 \n",
            "=================================================================\n",
            "Total params: 407,050\n",
            "Trainable params: 407,050\n",
            "Non-trainable params: 0\n",
            "_________________________________________________________________\n"
          ]
        }
      ]
    },
    {
      "cell_type": "code",
      "source": [
        "!nvidia-smi"
      ],
      "metadata": {
        "id": "VVUhZqxW4Jvm",
        "outputId": "d059b8b8-a3ea-4f64-9423-70348e062368",
        "colab": {
          "base_uri": "https://localhost:8080/"
        }
      },
      "execution_count": 19,
      "outputs": [
        {
          "output_type": "stream",
          "name": "stdout",
          "text": [
            "Fri Feb  3 10:46:03 2023       \n",
            "+-----------------------------------------------------------------------------+\n",
            "| NVIDIA-SMI 510.47.03    Driver Version: 510.47.03    CUDA Version: 11.6     |\n",
            "|-------------------------------+----------------------+----------------------+\n",
            "| GPU  Name        Persistence-M| Bus-Id        Disp.A | Volatile Uncorr. ECC |\n",
            "| Fan  Temp  Perf  Pwr:Usage/Cap|         Memory-Usage | GPU-Util  Compute M. |\n",
            "|                               |                      |               MIG M. |\n",
            "|===============================+======================+======================|\n",
            "|   0  Tesla T4            Off  | 00000000:00:04.0 Off |                    0 |\n",
            "| N/A   55C    P0    28W /  70W |   1506MiB / 15360MiB |      0%      Default |\n",
            "|                               |                      |                  N/A |\n",
            "+-------------------------------+----------------------+----------------------+\n",
            "                                                                               \n",
            "+-----------------------------------------------------------------------------+\n",
            "| Processes:                                                                  |\n",
            "|  GPU   GI   CI        PID   Type   Process name                  GPU Memory |\n",
            "|        ID   ID                                                   Usage      |\n",
            "|=============================================================================|\n",
            "|    0   N/A  N/A      2202      C                                    1503MiB |\n",
            "+-----------------------------------------------------------------------------+\n"
          ]
        }
      ]
    },
    {
      "cell_type": "code",
      "source": [],
      "metadata": {
        "id": "HJNyuhAy4hU-"
      },
      "execution_count": null,
      "outputs": []
    }
  ],
  "metadata": {
    "colab": {
      "name": "Welcome To Colaboratory",
      "provenance": [],
      "include_colab_link": true
    },
    "kernelspec": {
      "display_name": "Python 3",
      "name": "python3"
    },
    "accelerator": "GPU",
    "gpuClass": "standard"
  },
  "nbformat": 4,
  "nbformat_minor": 0
}